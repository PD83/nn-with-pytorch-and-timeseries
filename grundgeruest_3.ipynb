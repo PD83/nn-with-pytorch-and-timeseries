{
 "cells": [
  {
   "cell_type": "code",
   "execution_count": 78,
   "metadata": {},
   "outputs": [
    {
     "name": "stdout",
     "output_type": "stream",
     "text": [
      "<class 'pandas.core.frame.DataFrame'>\n",
      "(18288, 3)\n",
      "          ID          Datetime  Count\n",
      "0          0  25-08-2012 00:00      8\n",
      "1          1  25-08-2012 01:00      2\n",
      "2          2  25-08-2012 02:00      6\n",
      "3          3  25-08-2012 03:00      2\n",
      "4          4  25-08-2012 04:00      2\n",
      "5          5  25-08-2012 05:00      2\n",
      "6          6  25-08-2012 06:00      2\n",
      "7          7  25-08-2012 07:00      2\n",
      "8          8  25-08-2012 08:00      6\n",
      "9          9  25-08-2012 09:00      2\n",
      "10        10  25-08-2012 10:00      2\n",
      "11        11  25-08-2012 11:00      6\n",
      "12        12  25-08-2012 12:00      4\n",
      "13        13  25-08-2012 13:00      2\n",
      "14        14  25-08-2012 14:00      6\n",
      "15        15  25-08-2012 15:00      2\n",
      "16        16  25-08-2012 16:00      2\n",
      "17        17  25-08-2012 17:00      2\n",
      "18        18  25-08-2012 18:00      2\n",
      "19        19  25-08-2012 19:00      2\n",
      "20        20  25-08-2012 20:00      2\n",
      "21        21  25-08-2012 21:00      6\n",
      "22        22  25-08-2012 22:00      2\n",
      "23        23  25-08-2012 23:00      2\n",
      "24        24  26-08-2012 00:00      4\n",
      "25        25  26-08-2012 01:00      6\n",
      "26        26  26-08-2012 02:00      2\n",
      "27        27  26-08-2012 03:00      4\n",
      "28        28  26-08-2012 04:00      2\n",
      "29        29  26-08-2012 05:00      2\n",
      "...      ...               ...    ...\n",
      "18258  18258  24-09-2014 18:00    966\n",
      "18259  18259  24-09-2014 19:00   1178\n",
      "18260  18260  24-09-2014 20:00   1008\n",
      "18261  18261  24-09-2014 21:00    936\n",
      "18262  18262  24-09-2014 22:00    848\n",
      "18263  18263  24-09-2014 23:00    942\n",
      "18264  18264  25-09-2014 00:00    686\n",
      "18265  18265  25-09-2014 01:00    546\n",
      "18266  18266  25-09-2014 02:00    550\n",
      "18267  18267  25-09-2014 03:00    416\n",
      "18268  18268  25-09-2014 04:00    344\n",
      "18269  18269  25-09-2014 05:00    334\n",
      "18270  18270  25-09-2014 06:00    416\n",
      "18271  18271  25-09-2014 07:00    498\n",
      "18272  18272  25-09-2014 08:00    482\n",
      "18273  18273  25-09-2014 09:00    512\n",
      "18274  18274  25-09-2014 10:00    724\n",
      "18275  18275  25-09-2014 11:00    656\n",
      "18276  18276  25-09-2014 12:00    672\n",
      "18277  18277  25-09-2014 13:00    642\n",
      "18278  18278  25-09-2014 14:00    616\n",
      "18279  18279  25-09-2014 15:00    686\n",
      "18280  18280  25-09-2014 16:00    654\n",
      "18281  18281  25-09-2014 17:00    622\n",
      "18282  18282  25-09-2014 18:00    680\n",
      "18283  18283  25-09-2014 19:00    868\n",
      "18284  18284  25-09-2014 20:00    732\n",
      "18285  18285  25-09-2014 21:00    702\n",
      "18286  18286  25-09-2014 22:00    580\n",
      "18287  18287  25-09-2014 23:00    534\n",
      "\n",
      "[18288 rows x 3 columns]\n"
     ]
    }
   ],
   "source": [
    "import pandas as pd\n",
    "import torch\n",
    "from sklearn.datasets import load_boston\n",
    "import numpy as np\n",
    "import torch.nn as nn\n",
    "import random\n",
    "from sklearn.utils import shuffle\n",
    "from sklearn import datasets\n",
    "import datetime\n",
    "data = pd.read_csv('Train.csv', encoding = \"UTF-8\")\n",
    "print (type(data))\n",
    "print(data.shape)\n",
    "data.head()\n",
    "print(data)"
   ]
  },
  {
   "cell_type": "code",
   "execution_count": 29,
   "metadata": {},
   "outputs": [
    {
     "name": "stdout",
     "output_type": "stream",
     "text": [
      "RangeIndex(start=0, stop=18288, step=1)\n",
      "0    8\n",
      "1    2\n",
      "2    6\n",
      "3    2\n",
      "4    2\n",
      "5    2\n",
      "6    2\n",
      "7    2\n",
      "8    6\n",
      "9    2\n",
      "Name: Count, dtype: int64\n",
      "6244      14\n",
      "4662      16\n",
      "2927      18\n",
      "14266    426\n",
      "7138      62\n",
      "7648     122\n",
      "11874    240\n",
      "3080      20\n",
      "14403    172\n",
      "13424    150\n",
      "Name: Count, dtype: int64\n"
     ]
    }
   ],
   "source": [
    "#train=data[:10][:-1]\n",
    "#print(train)\n",
    "print(data.index) # gibt die indezes aus bzw deren struktur\n",
    "print (data.Count[:10]) # gibt die zeile namens'count' aus. [:10] bedeutet :nur bis zeile 10\n",
    "dataShu = shuffle(data) # vermischung von panda dataframes\n",
    "print (dataShu.Count[:10])"
   ]
  },
  {
   "cell_type": "code",
   "execution_count": 77,
   "metadata": {},
   "outputs": [],
   "source": [
    "# trennung von features und labels\n",
    "data=shuffle(data)\n",
    "x_data=data[['ID','Datetime']] # so fügt man vorhandene zeilen zu einer neuen dataframe zusammen\n",
    "y_data=data.Count \n",
    "#print (x_data)\n",
    "#print (y_data)\n",
    "\n",
    "# aufteilung in trainings und testset\n",
    "x_train=x_data[:-5000]  # zeile 0 bis (gesamtzahl minus 5000)\n",
    "y_train=y_data[:-5000]  \n",
    "\n",
    "x_test=x_data[-5000:]   # zeile (gesamtzahl minus 5000)bis ende\n",
    "y_test=y_data[-5000:]\n",
    "\n",
    "#test_tensor = torch.Tensor(x_train.values)"
   ]
  },
  {
   "cell_type": "code",
   "execution_count": 79,
   "metadata": {},
   "outputs": [],
   "source": [
    "# erstellung von tensor\n",
    "# an dieser stelle muss man sich jetzt überlegen wie man den zeitstempel in eine brauchbare form bekommt.\n",
    "# ein nn nimmt keine strings an (wie auch,mit einem string kann man nicht rechnen) sondern nur zahlen\n",
    " \n",
    "#print (x_train)\n",
    "#print(x_train.ID)\n",
    "#print (x_train.values)\n",
    "#print(datetime.datetime.now())"
   ]
  }
 ],
 "metadata": {
  "kernelspec": {
   "display_name": "Python 3",
   "language": "python",
   "name": "python3"
  },
  "language_info": {
   "codemirror_mode": {
    "name": "ipython",
    "version": 3
   },
   "file_extension": ".py",
   "mimetype": "text/x-python",
   "name": "python",
   "nbconvert_exporter": "python",
   "pygments_lexer": "ipython3",
   "version": "3.7.2"
  }
 },
 "nbformat": 4,
 "nbformat_minor": 2
}
